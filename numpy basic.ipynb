{
 "cells": [
  {
   "cell_type": "markdown",
   "id": "4205ee38-4b6c-4557-b976-208a6355840c",
   "metadata": {},
   "source": [
    "# NumPy is a Python library used for working with arrays. \n",
    "It also has functions for working in domain of linear algebra, fourier transform, and matrices. NumPy was created in 2005 by Travis Oliphant. It is an open source project and you can use it freely. NumPy stands for Numerical Python.\n",
    "In Python we have lists that serve the purpose of arrays, but they are slow to process. NumPy aims to provide an array object that is up to 50x faster than traditional Python lists. The array object in NumPy is called ndarray, it provides a lot of supporting functions that make working with ndarray very easy. NumPy arrays are stored at one continuous place in memory unlike lists, so processes can access and manipulate them very efficiently. NumPy is a Python library and is written partially in Python, but most of the parts that require fast computation are written in C or C++."
   ]
  },
  {
   "cell_type": "code",
   "execution_count": 64,
   "id": "81429c3e-da41-495b-a86d-6fe9fda2ad9f",
   "metadata": {},
   "outputs": [],
   "source": [
    "import numpy as np"
   ]
  },
  {
   "cell_type": "code",
   "execution_count": 25,
   "id": "43f95284-2a35-4a06-99ea-ea5d949f5abd",
   "metadata": {},
   "outputs": [],
   "source": [
    "l1=[1,2,3,4]"
   ]
  },
  {
   "cell_type": "code",
   "execution_count": 26,
   "id": "5de269fc-1b36-4f05-9699-405d77e9a807",
   "metadata": {},
   "outputs": [
    {
     "name": "stdout",
     "output_type": "stream",
     "text": [
      "[1, 2, 3, 4]\n"
     ]
    }
   ],
   "source": [
    "print(l1)\n"
   ]
  },
  {
   "cell_type": "markdown",
   "id": "10650b58-4c16-4f6a-b067-240dabf7530e",
   "metadata": {},
   "source": [
    "# Create numpy array from a 1D list\n",
    "1D array is a vector only\n",
    "Check dimension and, shape, and size of the array"
   ]
  },
  {
   "cell_type": "code",
   "execution_count": 60,
   "id": "1f56bbcd-15e9-43da-93c9-63bc1bc25e93",
   "metadata": {},
   "outputs": [
    {
     "name": "stdout",
     "output_type": "stream",
     "text": [
      "(4,)\n",
      "1\n",
      "4\n"
     ]
    }
   ],
   "source": [
    "arr1=np.array(l1)\n",
    "print(arr1.shape)\n",
    "print(arr1.ndim)\n",
    "print(arr1.size)\n"
   ]
  },
  {
   "cell_type": "code",
   "execution_count": 61,
   "id": "296bd088-242e-4416-8b10-52703b217fed",
   "metadata": {},
   "outputs": [],
   "source": [
    "# Reshape an array from 1D to 2D"
   ]
  },
  {
   "cell_type": "code",
   "execution_count": 63,
   "id": "7e66b77c-d7c5-4036-b290-0261ff161bbb",
   "metadata": {},
   "outputs": [
    {
     "name": "stdout",
     "output_type": "stream",
     "text": [
      "(4, 1)\n",
      "2\n"
     ]
    }
   ],
   "source": [
    "arr1=arr1.reshape((arr1.size,-1))\n",
    "print(arr1.shape)\n",
    "print(arr1.ndim)"
   ]
  },
  {
   "cell_type": "code",
   "execution_count": 29,
   "id": "a984218b-41f7-45f9-8033-1d1d480de5a8",
   "metadata": {},
   "outputs": [
    {
     "name": "stdout",
     "output_type": "stream",
     "text": [
      "[[1]\n",
      " [2]\n",
      " [3]\n",
      " [4]]\n"
     ]
    }
   ],
   "source": [
    "print(arr1)"
   ]
  },
  {
   "cell_type": "markdown",
   "id": "90866af4-6426-4225-bb4f-cdcf511e1651",
   "metadata": {},
   "source": [
    "# Create numpy array from a 2D list\n",
    "2D array is like matrix it has rows and columns\n",
    "Check dimension and, shape, and size of the array"
   ]
  },
  {
   "cell_type": "code",
   "execution_count": 30,
   "id": "e2b022c1-5c2d-47e9-a8a3-16f2ed362c74",
   "metadata": {},
   "outputs": [],
   "source": [
    "l2=[[1,2,3],[4,5,6]]"
   ]
  },
  {
   "cell_type": "code",
   "execution_count": 31,
   "id": "acb4c43e-1428-4796-883d-7f148dc6d571",
   "metadata": {},
   "outputs": [],
   "source": [
    "arr2=np.array(l2)"
   ]
  },
  {
   "cell_type": "code",
   "execution_count": 32,
   "id": "37f5ca7c-5c65-4f14-9e75-cf9bce5d8934",
   "metadata": {},
   "outputs": [
    {
     "name": "stdout",
     "output_type": "stream",
     "text": [
      "[[1 2 3]\n",
      " [4 5 6]]\n",
      "(2, 3)\n",
      "2\n",
      "6\n"
     ]
    }
   ],
   "source": [
    "print(arr2)\n",
    "print(arr2.shape)\n",
    "print(arr2.ndim)\n",
    "print(arr2.size)"
   ]
  },
  {
   "cell_type": "markdown",
   "id": "01d96b62-8aa4-4539-a69b-68401a34e7d0",
   "metadata": {},
   "source": [
    "# Create numpy array from a 3D list\n",
    "3D array is a three dimensional array\n",
    "Check dimension and, shape, and size of the array"
   ]
  },
  {
   "cell_type": "code",
   "execution_count": 33,
   "id": "fa4fb979-a5b4-4eaa-851a-fc6c05ff206a",
   "metadata": {},
   "outputs": [],
   "source": [
    "l3=[\n",
    "    [[1,2,3,4,5],[9,6,4,2,1]],\n",
    "    [[3,5,4,6,7],[2,2,2,2,2]],\n",
    "    [[1,1,3,3,4],[8,9,8,9,8]]\n",
    "]"
   ]
  },
  {
   "cell_type": "code",
   "execution_count": 34,
   "id": "490b1045-b4ca-4153-bb40-348f7527d3a6",
   "metadata": {},
   "outputs": [
    {
     "name": "stdout",
     "output_type": "stream",
     "text": [
      "[[[1, 2, 3, 4, 5], [9, 6, 4, 2, 1]], [[3, 5, 4, 6, 7], [2, 2, 2, 2, 2]], [[1, 1, 3, 3, 4], [8, 9, 8, 9, 8]]]\n"
     ]
    }
   ],
   "source": [
    "print(l3)"
   ]
  },
  {
   "cell_type": "code",
   "execution_count": 35,
   "id": "4ce9850e-15bd-4a59-a426-fef50a6eec6c",
   "metadata": {},
   "outputs": [],
   "source": [
    "arr3=np.array(l3)"
   ]
  },
  {
   "cell_type": "code",
   "execution_count": 36,
   "id": "7317e349-5070-4251-9cff-da91693ce04b",
   "metadata": {},
   "outputs": [
    {
     "name": "stdout",
     "output_type": "stream",
     "text": [
      "[[[1 2 3 4 5]\n",
      "  [9 6 4 2 1]]\n",
      "\n",
      " [[3 5 4 6 7]\n",
      "  [2 2 2 2 2]]\n",
      "\n",
      " [[1 1 3 3 4]\n",
      "  [8 9 8 9 8]]]\n",
      "(3, 2, 5)\n",
      "3\n",
      "30\n"
     ]
    }
   ],
   "source": [
    "print(arr3)\n",
    "print(arr3.shape)\n",
    "print(arr3.ndim)\n",
    "print(arr3.size)"
   ]
  },
  {
   "cell_type": "markdown",
   "id": "4d184931-75f7-4624-be2d-ccef221ea1b6",
   "metadata": {},
   "source": [
    "# Create an array of zeros only"
   ]
  },
  {
   "cell_type": "code",
   "execution_count": 41,
   "id": "0675b74b-c54e-44b6-9d23-45cd5cbe0d60",
   "metadata": {},
   "outputs": [
    {
     "name": "stdout",
     "output_type": "stream",
     "text": [
      "[0. 0. 0. 0. 0. 0. 0. 0. 0. 0.]\n",
      "(10,)\n",
      "1\n",
      "[[0. 0. 0. 0. 0.]\n",
      " [0. 0. 0. 0. 0.]]\n",
      "(2, 5)\n",
      "2\n"
     ]
    }
   ],
   "source": [
    "arr4=np.zeros(10)\n",
    "print(arr4)\n",
    "print(arr4.shape)\n",
    "print(arr4.ndim)\n",
    "arr4=arr4.reshape(2,-1)\n",
    "print(arr4)\n",
    "print(arr4.shape)\n",
    "print(arr4.ndim)"
   ]
  },
  {
   "cell_type": "markdown",
   "id": "3679b16f-3024-467c-9455-fb764b2ba8b7",
   "metadata": {},
   "source": [
    "# Create an array of ones only"
   ]
  },
  {
   "cell_type": "code",
   "execution_count": 42,
   "id": "5ece96bf-f5d9-4c23-8b9d-f1551c93d415",
   "metadata": {},
   "outputs": [
    {
     "name": "stdout",
     "output_type": "stream",
     "text": [
      "[1. 1. 1. 1. 1. 1. 1. 1. 1. 1.]\n",
      "(10,)\n",
      "1\n",
      "[[1. 1. 1. 1. 1.]\n",
      " [1. 1. 1. 1. 1.]]\n",
      "(2, 5)\n",
      "2\n"
     ]
    }
   ],
   "source": [
    "arr4=np.ones(10)\n",
    "print(arr4)\n",
    "print(arr4.shape)\n",
    "print(arr4.ndim)\n",
    "arr4=arr4.reshape(2,-1)\n",
    "print(arr4)\n",
    "print(arr4.shape)\n",
    "print(arr4.ndim)"
   ]
  },
  {
   "cell_type": "markdown",
   "id": "9efcdbbb-43b0-4ed5-9a0c-67254113b4e9",
   "metadata": {},
   "source": [
    "# Reshape multidimensional array to vector\n",
    "It is called flatten the array"
   ]
  },
  {
   "cell_type": "code",
   "execution_count": 45,
   "id": "868a5473-f91f-4986-95cc-f292ba3a5654",
   "metadata": {},
   "outputs": [
    {
     "name": "stdout",
     "output_type": "stream",
     "text": [
      "[1. 1. 1. 1. 1. 1. 1. 1. 1. 1.]\n",
      "[1. 1. 1. 1. 1. 1. 1. 1. 1. 1.]\n"
     ]
    }
   ],
   "source": [
    "arr=arr4.reshape(-1)\n",
    "print(arr)\n",
    "arr=arr4.reshape(10,)\n",
    "print(arr)"
   ]
  },
  {
   "cell_type": "markdown",
   "id": "0f4067ca-fde3-44de-9004-54619d4464b0",
   "metadata": {},
   "source": [
    "# Create an array from another array with same value, size and dimension"
   ]
  },
  {
   "cell_type": "code",
   "execution_count": 43,
   "id": "0b901abf-ba2e-4239-80ea-4af7dcf8d2d1",
   "metadata": {},
   "outputs": [
    {
     "name": "stdout",
     "output_type": "stream",
     "text": [
      "[[1. 1. 1. 1. 1.]\n",
      " [1. 1. 1. 1. 1.]]\n"
     ]
    }
   ],
   "source": [
    "arr5=np.array(arr4)\n",
    "print(arr5)"
   ]
  },
  {
   "cell_type": "code",
   "execution_count": 44,
   "id": "fb018f78-e554-4a5e-bc74-6d4141938a5f",
   "metadata": {},
   "outputs": [
    {
     "name": "stdout",
     "output_type": "stream",
     "text": [
      "[[1. 1. 1. 1. 1.]\n",
      " [1. 1. 1. 1. 1.]]\n"
     ]
    }
   ],
   "source": [
    "arr6=arr4.copy()\n",
    "print(arr6)"
   ]
  },
  {
   "cell_type": "markdown",
   "id": "55c7df12-7cc1-467e-a786-d74a494aee4b",
   "metadata": {},
   "source": [
    "# Slicing an array\n",
    "Slicing in python means taking elements from one given index to another given index.\r\n",
    "We pass slice instead of index like this: [start:end].\r\n",
    "\r\n",
    "We can also define the step, like this: [start:end:step].\r\n",
    "\r\n",
    "If we don't pass start its considered 0\r\n",
    "\r\n",
    "If we don't pass end its considered length of array in that dimension\r\n",
    "\r\n",
    "If we don't pass step its considered 1"
   ]
  },
  {
   "cell_type": "markdown",
   "id": "e0f7ddfd-23ff-4d8a-9c65-9f308364e169",
   "metadata": {},
   "source": [
    "Slicing a one dimensional array"
   ]
  },
  {
   "cell_type": "code",
   "execution_count": 46,
   "id": "24783964-3a11-4650-a7e2-7e88d130c31b",
   "metadata": {},
   "outputs": [
    {
     "name": "stdout",
     "output_type": "stream",
     "text": [
      "[10 25 33  4  9 30 82 91 12]\n",
      "[33  4  9]\n"
     ]
    }
   ],
   "source": [
    "arr1=np.array([10,25,33,4,9,30,82,91,12])\n",
    "print(arr1)\n",
    "print(arr1[2:5])"
   ]
  },
  {
   "cell_type": "markdown",
   "id": "34c28e9c-c0dc-4b63-bdbb-c67ebbe0540d",
   "metadata": {},
   "source": [
    "# Slicing a two dimensional array"
   ]
  },
  {
   "cell_type": "code",
   "execution_count": 48,
   "id": "4779c8e0-cc16-4e08-b0ec-bdc9ade9d338",
   "metadata": {},
   "outputs": [
    {
     "name": "stdout",
     "output_type": "stream",
     "text": [
      "[[ 1  2  3 10 22 34]\n",
      " [ 4  5  6 10 21 67]]\n",
      "[[ 2  3 10]\n",
      " [ 5  6 10]]\n"
     ]
    }
   ],
   "source": [
    "arr=np.array([[1,2,3,10,22,34],[4,5,6,10,21,67]])\n",
    "print(arr)\n",
    "print(arr[:,1:4])"
   ]
  },
  {
   "cell_type": "code",
   "execution_count": 49,
   "id": "5023491d-05e6-4f1f-9e15-2be27d8bd333",
   "metadata": {},
   "outputs": [
    {
     "name": "stdout",
     "output_type": "stream",
     "text": [
      "[[ 2  3 10]]\n"
     ]
    }
   ],
   "source": [
    "print(arr[0:1,1:4])"
   ]
  },
  {
   "cell_type": "code",
   "execution_count": 50,
   "id": "9a53eabe-f911-49eb-be56-ea8367d353cd",
   "metadata": {},
   "outputs": [
    {
     "name": "stdout",
     "output_type": "stream",
     "text": [
      "[[ 2  3 10 22 34]\n",
      " [ 5  6 10 21 67]]\n"
     ]
    }
   ],
   "source": [
    "print(arr[:,1:])"
   ]
  },
  {
   "cell_type": "code",
   "execution_count": 51,
   "id": "94d492b4-5b06-46f7-99ca-aab296519de1",
   "metadata": {},
   "outputs": [
    {
     "name": "stdout",
     "output_type": "stream",
     "text": [
      "[[ 2  3 10 22]\n",
      " [ 5  6 10 21]]\n"
     ]
    }
   ],
   "source": [
    "print(arr[:,1:-1])"
   ]
  },
  {
   "cell_type": "markdown",
   "id": "7540cefa-cdfd-4106-ac9c-028b5822af8f",
   "metadata": {},
   "source": [
    "# Slicing a three dimensional array"
   ]
  },
  {
   "cell_type": "code",
   "execution_count": 52,
   "id": "cbeb39c3-611b-42cc-a12f-ee059d5574c4",
   "metadata": {},
   "outputs": [
    {
     "name": "stdout",
     "output_type": "stream",
     "text": [
      "[[[1 2 3 4 5]\n",
      "  [9 6 4 2 1]]\n",
      "\n",
      " [[3 5 4 6 7]\n",
      "  [2 2 2 2 2]]\n",
      "\n",
      " [[1 1 3 3 4]\n",
      "  [8 9 8 9 8]]]\n"
     ]
    }
   ],
   "source": [
    "arr=np.array(l3)\n",
    "print(arr)"
   ]
  },
  {
   "cell_type": "code",
   "execution_count": 53,
   "id": "f78ca101-b378-48ed-aaac-bb3ebc9854e9",
   "metadata": {},
   "outputs": [
    {
     "name": "stdout",
     "output_type": "stream",
     "text": [
      "(3, 2, 5)\n"
     ]
    }
   ],
   "source": [
    "print(arr.shape)"
   ]
  },
  {
   "cell_type": "code",
   "execution_count": 54,
   "id": "b8078877-ea22-4e46-9185-0f93548bf47f",
   "metadata": {},
   "outputs": [
    {
     "name": "stdout",
     "output_type": "stream",
     "text": [
      "[[[1 2 3 4 5]\n",
      "  [9 6 4 2 1]]\n",
      "\n",
      " [[3 5 4 6 7]\n",
      "  [2 2 2 2 2]]]\n"
     ]
    }
   ],
   "source": [
    "print(arr[0:2,:,:])"
   ]
  },
  {
   "cell_type": "code",
   "execution_count": 55,
   "id": "79697578-05f9-4c60-b062-2fa63fd7931d",
   "metadata": {},
   "outputs": [
    {
     "name": "stdout",
     "output_type": "stream",
     "text": [
      "[[[1 2 3 4 5]]\n",
      "\n",
      " [[3 5 4 6 7]]]\n"
     ]
    }
   ],
   "source": [
    "print(arr[0:2,:-1,:])"
   ]
  },
  {
   "cell_type": "code",
   "execution_count": 56,
   "id": "57e1f0ef-823e-4ff2-ba48-dffa3787a677",
   "metadata": {},
   "outputs": [
    {
     "name": "stdout",
     "output_type": "stream",
     "text": [
      "[[[2 3 4]\n",
      "  [6 4 2]]\n",
      "\n",
      " [[5 4 6]\n",
      "  [2 2 2]]]\n"
     ]
    }
   ],
   "source": [
    "print(arr[0:2,:,1:4])"
   ]
  },
  {
   "cell_type": "code",
   "execution_count": null,
   "id": "cbd1bfd5-1f56-43e3-895e-e1ad21875fd5",
   "metadata": {},
   "outputs": [],
   "source": []
  }
 ],
 "metadata": {
  "kernelspec": {
   "display_name": "Python 3 (ipykernel)",
   "language": "python",
   "name": "python3"
  },
  "language_info": {
   "codemirror_mode": {
    "name": "ipython",
    "version": 3
   },
   "file_extension": ".py",
   "mimetype": "text/x-python",
   "name": "python",
   "nbconvert_exporter": "python",
   "pygments_lexer": "ipython3",
   "version": "3.8.6rc1"
  }
 },
 "nbformat": 4,
 "nbformat_minor": 5
}
